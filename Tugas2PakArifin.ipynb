{
  "nbformat": 4,
  "nbformat_minor": 0,
  "metadata": {
    "colab": {
      "provenance": [],
      "authorship_tag": "ABX9TyPncd7XRtszQ4aO7gia8IwY",
      "include_colab_link": true
    },
    "kernelspec": {
      "name": "python3",
      "display_name": "Python 3"
    },
    "language_info": {
      "name": "python"
    }
  },
  "cells": [
    {
      "cell_type": "markdown",
      "metadata": {
        "id": "view-in-github",
        "colab_type": "text"
      },
      "source": [
        "<a href=\"https://colab.research.google.com/github/GopiGanteng/Chapter-2/blob/main/Tugas2PakArifin.ipynb\" target=\"_parent\"><img src=\"https://colab.research.google.com/assets/colab-badge.svg\" alt=\"Open In Colab\"/></a>"
      ]
    },
    {
      "cell_type": "code",
      "execution_count": null,
      "metadata": {
        "id": "h8Wt3TvzLm3c"
      },
      "outputs": [],
      "source": [
        "str_numbers = \"456\"\n",
        "str_numbers_to_int = int(str_numbers)\n",
        "print(\"Before casting :\", str_numbers, \", the data type is\", type(str_numbers))\n",
        "print(\"After casting :\", str_numbers_to_int, \", the data type is\", type(str_numbers_to_int))\n",
        "\n",
        "Integer = 12345\n",
        "integer_to_str = str(Integer)\n",
        "print(\"Before casting :\", Integer, \", the data type is\", type(Integer))\n",
        "print(\"After casting :\", integer_to_str, \", the data type is\", type(integer_to_str))\n",
        "\n",
        "num_int = 1\n",
        "num_bool = bool(num_int)\n",
        "print(num_bool, type(num_bool))\n",
        "\n",
        "num_int = 0\n",
        "num_bool = bool(num_int)\n",
        "print(num_bool, type(num_bool))"
      ]
    },
    {
      "cell_type": "code",
      "source": [
        "# Equal to\n",
        "8 == 8\n",
        "# Not equal to\n",
        "8 != 9\n",
        "# Greater than\n",
        "8 > 9\n",
        "# Less than\n",
        "8 < 9\n",
        "# Less than\n",
        "8 <= 9\n",
        "# Less than\n",
        "8 >= 9\n",
        "\n",
        "a = True\n",
        "b = True\n",
        "print(a and b)\n",
        "print(a or b)\n",
        "print(not b)"
      ],
      "metadata": {
        "id": "PmPbxxuPMUSS"
      },
      "execution_count": null,
      "outputs": []
    },
    {
      "cell_type": "code",
      "source": [
        "#logic\n",
        "5 > 6 and 6 < 7\n",
        "\n",
        "e = 8\n",
        "f = 2\n",
        "\n",
        "# summation\n",
        "sum = e + f\n",
        "print(f\"The sum of e with f is : {sum}\\n\")\n",
        "\n",
        "# Reduction\n",
        "red = e - f\n",
        "print(f\"The reduction of e with f is : {red}\\n\")\n",
        "\n",
        "# Multiplication\n",
        "mul = e * f\n",
        "print(f\"The multiplication of e with f is : {mul}\\n\")\n",
        "\n",
        "# Division\n",
        "divi = e / f\n",
        "print(f\"The division of e with f is : {divi}\\n\")\n",
        "\n",
        "# Modulo\n",
        "mod = e % f\n",
        "print(f\"The modulo of e with f is : {mod}\\n\")\n",
        "\n",
        "# Power\n",
        "pow = e ** f\n",
        "print(f\"The power of e with f is : {pow}\\n\")\n",
        "\n",
        "# Input\n",
        "name = str(input(\"Enter your name : \"))\n",
        "age = int(input(\"Enter your age : \"))\n",
        "\n",
        "print(\"Name: \", name)\n",
        "print(\"Age: \", age)"
      ],
      "metadata": {
        "id": "mo6awtfdMYAw"
      },
      "execution_count": null,
      "outputs": []
    },
    {
      "cell_type": "code",
      "source": [
        "# normal print\n",
        "print('Hi all! am', name, 'age',age,'years old')\n",
        "# format print\n",
        "print(f'Hi all! am{name} age{age} years old')\n",
        "# format print\n",
        "print(f'Hi all! I am %s age %d years old'%(name, age))\n",
        "# format output\n",
        "print(30*\"=\")\n",
        "print(\"Temperature Calculator Program\")\n",
        "print(30*\"=\")"
      ],
      "metadata": {
        "id": "teOSQ7MgRJu9"
      },
      "execution_count": null,
      "outputs": []
    },
    {
      "cell_type": "code",
      "source": [
        "#Using If-Else\n",
        "try:\n",
        "  your_GPA = float(input(\"Enter your GPA: \"))\n",
        "  if 4.0 >= your_GPA >= 0.0:\n",
        "    if 4.0 >= your_GPA >= 3.80:\n",
        "      print(f\"Damn you've got a magna cumlaude with your {your_GPA} GPA\")\n",
        "    elif 3.50 <= your_GPA < 3.80:\n",
        "        print(f\"You've got a good cumlaude with your {your_GPA} GPA\")\n",
        "    elif 3.00 <= your_GPA < 3.50:\n",
        "        print(f\"You've got a stable GPA tho\")\n",
        "    elif your_GPA < 3.0:\n",
        "        print(f\"You need a stable GPA\")\n",
        "  else:\n",
        "    print(f\"sorry,your_GPA {your_GPA} is out of range and invalid\")\n",
        "except:\n",
        "  print(\"Please enter a valid GPA\")"
      ],
      "metadata": {
        "id": "0gz3b8mQRMdG"
      },
      "execution_count": null,
      "outputs": []
    },
    {
      "cell_type": "code",
      "source": [
        "#Using match case\n",
        "try:\n",
        "  status_code = int(input(\"Enter a status code: \"))\n",
        "  print(\"Your code means\")\n",
        "  match status_code:\n",
        "    case 200:\n",
        "      print(\"Succes\")\n",
        "    case 400:\n",
        "      print(\"Bad Request\")\n",
        "    case 401:\n",
        "      print(\"Unauthorized\")\n",
        "    case 402:\n",
        "      print(\"Payment Required\")\n",
        "    case 403:\n",
        "      print(\"Forbidden\")\n",
        "    case 404:\n",
        "      print(\"Not Found\")\n",
        "    case 500:\n",
        "      print(\"Internal Server Error\")\n",
        "    case 501:\n",
        "      print(\"Not Implemented\")\n",
        "    case 502:\n",
        "      print(\"Bad Gateway\")\n",
        "    case 503:\n",
        "      print(\"Service Unavailable\")\n",
        "except :\n",
        "         print(\"Please enter a valid status code\")\n"
      ],
      "metadata": {
        "id": "d9VGFgiDRPBW"
      },
      "execution_count": null,
      "outputs": []
    },
    {
      "cell_type": "code",
      "source": [
        "#Ternary\n",
        "a = 3\n",
        "b = \"Even Number\" if a % 2 == 0 else \"Odd Number\"\n",
        "print(b)"
      ],
      "metadata": {
        "id": "mHgyjgEPRRpy"
      },
      "execution_count": null,
      "outputs": []
    },
    {
      "cell_type": "code",
      "source": [
        "#Using Loops\n",
        "for i in range(5):\n",
        "  print(i)\n",
        "0\n",
        "1\n",
        "2\n",
        "3\n",
        "4"
      ],
      "metadata": {
        "id": "dKSqq999RUdN"
      },
      "execution_count": null,
      "outputs": []
    },
    {
      "cell_type": "code",
      "source": [
        "# For loop with range\n",
        "for i in range(5):\n",
        "  print(\"Data science is easy\")\n",
        "\n",
        "print(50*\"=\")\n",
        "\n",
        "for i in range(1, 5, 2):\n",
        "  print(\"Data science is easy\")\n",
        "\n",
        "  word = \"I want to master data science\"\n",
        "for letter in word:\n",
        "  print(letter)"
      ],
      "metadata": {
        "id": "_5zV5m9DRYfp"
      },
      "execution_count": null,
      "outputs": []
    },
    {
      "cell_type": "code",
      "source": [
        " # you can use it with enumerate function\n",
        "for m, n in enumerate(word):\n",
        "  print(f\"Index {m}. {n}\")\n",
        "\n",
        "  # it can go backwards\n",
        "for i in range(5,1,-1):\n",
        "  print(\"I want big data's\")\n",
        "\n",
        "  #Keyword control\n",
        "for i in range(5):\n",
        "  if i == 2:\n",
        "    continue # skip theis loop when i is equal to 2\n",
        "  if i == 4:\n",
        "    break # stops the loop when i is equal to 4\n",
        "  print(i)"
      ],
      "metadata": {
        "id": "7VHjtsFnRa28"
      },
      "execution_count": null,
      "outputs": []
    },
    {
      "cell_type": "code",
      "source": [
        " # Using while loop\n",
        "count = 0\n",
        "while count < 0:\n",
        "  print(\"Keep the spirits up interns!\")\n",
        "  count += 1"
      ],
      "metadata": {
        "id": "i-8CdZXBRdqB"
      },
      "execution_count": null,
      "outputs": []
    }
  ]
}